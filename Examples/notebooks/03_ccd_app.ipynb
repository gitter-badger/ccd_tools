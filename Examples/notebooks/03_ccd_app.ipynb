{
 "cells": [
  {
   "cell_type": "code",
   "execution_count": 1,
   "metadata": {},
   "outputs": [],
   "source": [
    "%matplotlib inline\n",
    "import os\n",
    "# os.environ['DD_USE_LATEX'] = '0'\n",
    "import lib_dd.apps.ccd_single as ccd_single"
   ]
  },
  {
   "cell_type": "markdown",
   "metadata": {},
   "source": [
    "### GUI Todo\n",
    "\n",
    "### Documentation link-todo\n",
    "* input data format\n",
    "* type of kernel\n",
    "* lambda\n",
    "* c value\n",
    "* frequency selection\n",
    "* max number of iterations\n",
    "* nr of terms per decade\n",
    "* range of tau values\n",
    "* data weighting scheme\n",
    "* normalization\n",
    "* plots (do we need this? probably for the l-curve)\n",
    "\n",
    "### functionality todo\n",
    "\n",
    "* provide normlization factors to plot functions\n",
    "* data weighting\n",
    "* lambda selection: also add possiblity to use automatic lambda\n",
    "\n",
    "### other things\n",
    "\n",
    "* use a temp directory for output generation\n",
    "* add custom, notebook-specific plot functions\n",
    "  * bqplot-based perhaps?"
   ]
  },
  {
   "cell_type": "code",
   "execution_count": 2,
   "metadata": {
    "scrolled": false
   },
   "outputs": [],
   "source": [
    "app = ccd_single.ccd_single_app('frequencies2.dat', 'data2.dat')\n",
    "app.show()"
   ]
  },
  {
   "cell_type": "code",
   "execution_count": null,
   "metadata": {},
   "outputs": [],
   "source": []
  }
 ],
 "metadata": {
  "kernelspec": {
   "display_name": "Python 3",
   "language": "python",
   "name": "python3"
  },
  "language_info": {
   "codemirror_mode": {
    "name": "ipython",
    "version": 3
   },
   "file_extension": ".py",
   "mimetype": "text/x-python",
   "name": "python",
   "nbconvert_exporter": "python",
   "pygments_lexer": "ipython3",
   "version": "3.5.3"
  }
 },
 "nbformat": 4,
 "nbformat_minor": 2
}
