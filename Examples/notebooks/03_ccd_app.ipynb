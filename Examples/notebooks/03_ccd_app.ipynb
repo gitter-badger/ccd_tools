{
 "cells": [
  {
   "cell_type": "code",
   "execution_count": 1,
   "metadata": {},
   "outputs": [],
   "source": [
    "%matplotlib inline\n",
    "import os\n",
    "# os.environ['DD_USE_LATEX'] = '0'\n",
    "import lib_dd.apps.ccd_single as ccd_single"
   ]
  },
  {
   "cell_type": "markdown",
   "metadata": {},
   "source": [
    "### GUI Todo\n",
    "\n",
    "### Documentation link-todo\n",
    "* input data format\n",
    "* type of kernel\n",
    "* lambda\n",
    "* c value\n",
    "* frequency selection\n",
    "* max number of iterations\n",
    "* nr of terms per decade\n",
    "* range of tau values\n",
    "* data weighting scheme\n",
    "* normalization\n",
    "* plots (do we need this? probably for the l-curve)\n",
    "\n",
    "### functionality todo\n",
    "\n",
    "* provide normlization factors to plot functions\n",
    "* data weighting\n",
    "* lambda selection: also add possiblity to use automatic lambda\n",
    "\n",
    "### other things\n",
    "\n",
    "* use a temp directory for output generation\n",
    "* add custom, notebook-specific plot functions\n",
    "  * bqplot-based perhaps?"
   ]
  },
  {
   "cell_type": "code",
   "execution_count": 3,
   "metadata": {
    "scrolled": false
   },
   "outputs": [
    {
     "data": {
      "text/html": [
       "<h2>Data summary</h2>"
      ],
      "text/plain": [
       "<IPython.core.display.HTML object>"
      ]
     },
     "metadata": {},
     "output_type": "display_data"
    },
    {
     "data": {
      "text/html": [
       "Number of frequencies: 25<br />Minimum frequency: 0.001 Hz<br />Maximum frequency: 1000.0 Hz<br /><br />number of SIP spectra: 2<br /><hr />"
      ],
      "text/plain": [
       "<IPython.core.display.HTML object>"
      ]
     },
     "metadata": {},
     "output_type": "display_data"
    },
    {
     "data": {
      "application/vnd.jupyter.widget-view+json": {
       "model_id": "b79139a44b94444da56ba17250f04ddc",
       "version_major": 2,
       "version_minor": 0
      },
      "text/html": [
       "<p>Failed to display Jupyter Widget of type <code>VBox</code>.</p>\n",
       "<p>\n",
       "  If you're reading this message in Jupyter Notebook or JupyterLab, it may mean\n",
       "  that the widgets JavaScript is still loading. If this message persists, it\n",
       "  likely means that the widgets JavaScript library is either not installed or\n",
       "  not enabled. See the <a href=\"https://ipywidgets.readthedocs.io/en/stable/user_install.html\">Jupyter\n",
       "  Widgets Documentation</a> for setup instructions.\n",
       "</p>\n",
       "<p>\n",
       "  If you're reading this message in another notebook frontend (for example, a static\n",
       "  rendering on GitHub or <a href=\"https://nbviewer.jupyter.org/\">NBViewer</a>),\n",
       "  it may mean that your frontend doesn't currently support widgets.\n",
       "</p>\n"
      ],
      "text/plain": [
       "VBox(children=(HTML(value='<h3>Settings</h3>'), HBox(children=(ToggleButton(value=True, description='Show advanced options', icon='check', layout=Layout(width='50%'), style=DescriptionStyle(description_width='initial')), ToggleButton(value=True, description='Show output', layout=Layout(width='50%'), style=DescriptionStyle(description_width='initial'))), layout=Layout(width='80%')), HBox(children=(Dropdown(description='Input data format:', options=('rmag_rpha', 'lnrmag_rpha', 'log10rmag_rpha', 'rmag_rpha', 'rre_rim', 'rre_rmim', 'cmag_cpha', 'cre_cim', 'cre_cmim'), style=DescriptionStyle(description_width='initial'), value='rmag_rpha'), HTML(value='<a href=\"https://m-weigand.github.io/ccd_tools/doc_ccd//data_formats.html#input-data-formats\" target=\"_blank\">Help</a>'))), HBox(children=(Dropdown(description='Type of kernel:', options={'resistivity formulation': '0', 'conductivity formulation': '1'}, style=DescriptionStyle(description_width='initial'), value='0'), HTML(value='<a href=\"https://m-weigand.github.io/ccd_tools/doc_ccd/usage_and_implementation.html#\" target=\"_blank\">Help</a>'))), HBox(children=(IntText(value=10, description='Lambda'), HTML(value='<a href=\"https://m-weigand.github.io/ccd_tools/doc_ccd/usage_and_implementation.html#data_weighting\" target=\"_blank\">Help</a>'))), HBox(children=(FloatSlider(value=1.0, continuous_update=False, description='C-value:', max=1.0, min=0.1, readout_format='.1f'), HTML(value='<a href=\"https://m-weigand.github.io/ccd_tools/doc_ccd/usage_and_implementation.html#data_weighting\" target=\"_blank\">Help</a>'))), HBox(children=(FloatText(value=0.001, description='Frequency min:', style=DescriptionStyle(description_width='initial')), FloatText(value=1000.0, description='Frequency max:', style=DescriptionStyle(description_width='initial')), HTML(value='<a href=\"https://m-weigand.github.io/ccd_tools/doc_ccd/usage_and_implementation.html#\" target=\"_blank\">Help</a>'))), Accordion(children=(VBox(children=(Checkbox(value=True, description='0.001 Hz'), Checkbox(value=True, description='0.002 Hz'), Checkbox(value=True, description='0.003 Hz'), Checkbox(value=True, description='0.006 Hz'), Checkbox(value=True, description='0.010 Hz'), Checkbox(value=True, description='0.018 Hz'), Checkbox(value=True, description='0.032 Hz'), Checkbox(value=True, description='0.056 Hz'), Checkbox(value=True, description='0.100 Hz'), Checkbox(value=True, description='0.178 Hz'), Checkbox(value=True, description='0.316 Hz'), Checkbox(value=True, description='0.562 Hz'), Checkbox(value=True, description='1.000 Hz'), Checkbox(value=True, description='1.778 Hz'), Checkbox(value=True, description='3.162 Hz'), Checkbox(value=True, description='5.623 Hz'), Checkbox(value=True, description='10.000 Hz'), Checkbox(value=True, description='17.783 Hz'), Checkbox(value=True, description='31.623 Hz'), Checkbox(value=True, description='56.234 Hz'), Checkbox(value=True, description='100.000 Hz'), Checkbox(value=True, description='177.828 Hz'), Checkbox(value=True, description='316.228 Hz'), Checkbox(value=True, description='562.341 Hz'), Checkbox(value=True, description='1000.000 Hz')), layout=Layout(display='inline-flex', flex_flow='row wrap', width='100%')),), selected_index=None, _titles={'0': 'Ignore frequencies'}), HBox(children=(IntSlider(value=20, continuous_update=False, description='Maximum nr of iterations:', max=40, style=SliderStyle(description_width='initial')), HTML(value='<a href=\"https://m-weigand.github.io/ccd_tools/doc_ccd/usage_and_implementation.html#\" target=\"_blank\">Help</a>'))), HBox(children=(IntText(value=20, description='Nr of terms per frequency decade:', style=DescriptionStyle(description_width='initial')), HTML(value='<a href=\"https://m-weigand.github.io/ccd_tools/doc_ccd/usage_and_implementation.html#\" target=\"_blank\">Help</a>'))), HBox(children=(Dropdown(description='Range of tau values:', options=('data_ext', 'data', 'individual'), style=DescriptionStyle(description_width='initial'), value='data_ext'), SelectionSlider(continuous_update=False, description='left:', index=2, layout=Layout(visibility='hidden'), options=(1, 10, 100, 1000), value=100), SelectionSlider(continuous_update=False, description='right:', index=2, layout=Layout(visibility='hidden'), options=(1, 10, 100, 1000), value=100), HTML(value='<a href=\"https://m-weigand.github.io/ccd_tools/doc_ccd/usage_and_implementation.html#\" target=\"_blank\">Help</a>'))), HBox(children=(Dropdown(description='Data weighting scheme:', options=('re_vs_im', 'avg_im', 'avg_im_err', 'one', 'all_to_one', 'rel_abs_error'), style=DescriptionStyle(description_width='initial'), value='re_vs_im'), HTML(value='<a href=\"https://m-weigand.github.io/ccd_tools/doc_ccd/usage_and_implementation.html#data_weighting\" target=\"_blank\">Help</a>'))), HBox(children=(Checkbox(value=False, description='Activate normalization', style=DescriptionStyle(description_width='initial')), FloatText(value=10.0, description='Normalization value:', disabled=True, step=1.0, style=DescriptionStyle(description_width='initial')), HTML(value='<a href=\"https://m-weigand.github.io/ccd_tools/doc_ccd/usage_and_implementation.html#normalization\" target=\"_blank\">Help</a>'))), VBox(children=(Checkbox(value=True, description='Generate plot'), Checkbox(value=False, description='Generate plots for all iterations'), Checkbox(value=False, description='Plot lcurve'), Checkbox(value=False, description='Plot regularization strength '), Checkbox(value=False, description='Generate output for download')), layout=Layout(border='3px solid black', display='inline-flex', flex_flow='row wrap', width='100%')), HBox(children=(Button(description='Run CCD', layout=Layout(height='80px', width='50%'), style=ButtonStyle(), tooltip='Run the Cole-Cole decomposition'), Button(description='Reset app', layout=Layout(height='80px', width='50%'), style=ButtonStyle())), layout=Layout(align_items='center', width='100%'))))"
      ]
     },
     "metadata": {},
     "output_type": "display_data"
    },
    {
     "data": {
      "text/html": [
       "<hr />"
      ],
      "text/plain": [
       "<IPython.core.display.HTML object>"
      ]
     },
     "metadata": {},
     "output_type": "display_data"
    }
   ],
   "source": [
    "app = ccd_single.ccd_single_app('frequencies2.dat', 'data2.dat')\n",
    "app.show()"
   ]
  },
  {
   "cell_type": "code",
   "execution_count": null,
   "metadata": {},
   "outputs": [],
   "source": []
  }
 ],
 "metadata": {
  "kernelspec": {
   "display_name": "Python 3",
   "language": "python",
   "name": "python3"
  },
  "language_info": {
   "codemirror_mode": {
    "name": "ipython",
    "version": 3
   },
   "file_extension": ".py",
   "mimetype": "text/x-python",
   "name": "python",
   "nbconvert_exporter": "python",
   "pygments_lexer": "ipython3",
   "version": "3.4.2"
  }
 },
 "nbformat": 4,
 "nbformat_minor": 2
}
