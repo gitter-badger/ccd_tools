{
 "cells": [
  {
   "cell_type": "code",
   "execution_count": 1,
   "metadata": {},
   "outputs": [],
   "source": [
    "%matplotlib inline\n",
    "import os\n",
    "os.environ['DD_USE_LATEX'] = '0'\n",
    "import lib_dd.apps.ccd_single as ccd_single"
   ]
  },
  {
   "cell_type": "markdown",
   "metadata": {},
   "source": [
    "### GUI Todo\n",
    "* add an simple/advanced toggle\n",
    "\n",
    "### Documentation link-todo\n",
    "* input data format\n",
    "* type of kernel\n",
    "* lambda\n",
    "* c value\n",
    "* frequency selection\n",
    "* max number of iterations\n",
    "* nr of terms per decade\n",
    "* range of tau values\n",
    "* data weighting scheme\n",
    "* normalization\n",
    "* plots (do we need this? probably for the l-curve)\n",
    "\n",
    "### functionality todo\n",
    "* frequency selection\n",
    "  * fmin/fmax\n",
    "  * fignore\n",
    "* data weighting\n",
    "* data_format\n",
    "* nr_terms\n",
    "* plot lcurve\n",
    "* plot reg strength\n",
    "* tau range\n",
    "\n",
    "### other things\n",
    "\n",
    "* add custom, notebook-specific plot functions\n",
    "  * bqplot-based perhaps?"
   ]
  },
  {
   "cell_type": "code",
   "execution_count": 2,
   "metadata": {
    "scrolled": false
   },
   "outputs": [
    {
     "data": {
      "text/html": [
       "<h2>Data summary</h2>"
      ],
      "text/plain": [
       "<IPython.core.display.HTML object>"
      ]
     },
     "metadata": {},
     "output_type": "display_data"
    },
    {
     "data": {
      "text/html": [
       "Number of frequencies: 20<br />Minimum frequency: 0.01 Hz<br />Maximum frequency: 10000.0 Hz<br /><br />number of SIP spectra: 1<br /><hr />"
      ],
      "text/plain": [
       "<IPython.core.display.HTML object>"
      ]
     },
     "metadata": {},
     "output_type": "display_data"
    },
    {
     "data": {
      "application/vnd.jupyter.widget-view+json": {
       "model_id": "20c46947d59445d098e95099a6159250",
       "version_major": 2,
       "version_minor": 0
      },
      "text/html": [
       "<p>Failed to display Jupyter Widget of type <code>VBox</code>.</p>\n",
       "<p>\n",
       "  If you're reading this message in Jupyter Notebook or JupyterLab, it may mean\n",
       "  that the widgets JavaScript is still loading. If this message persists, it\n",
       "  likely means that the widgets JavaScript library is either not installed or\n",
       "  not enabled. See the <a href=\"https://ipywidgets.readthedocs.io/en/stable/user_install.html\">Jupyter\n",
       "  Widgets Documentation</a> for setup instructions.\n",
       "</p>\n",
       "<p>\n",
       "  If you're reading this message in another notebook frontend (for example, a static\n",
       "  rendering on GitHub or <a href=\"https://nbviewer.jupyter.org/\">NBViewer</a>),\n",
       "  it may mean that your frontend doesn't currently support widgets.\n",
       "</p>\n"
      ],
      "text/plain": [
       "VBox(children=(HTML(value='<h3>Settings</h3>'), ToggleButton(value=True, description='Show advanced options', icon='check'), HBox(children=(Dropdown(description='Input data format:', index=4, options=('rmag_rpha', 'lnrmag_rpha', 'log10rmag_rpha', 'rmag_rpha', 'rre_rim', 'rre_rmim', 'cmag_cpha', 'cre_cim', 'cre_cmim'), style=DescriptionStyle(description_width='initial'), value='rre_rim'), HTML(value='<a href=\"https://m-weigand.github.io/ccd_tools/doc_ccd/usage_and_implementation.html#\" target=\"_blank\">Help</a>'))), HBox(children=(Dropdown(description='Type of kernel:', options={'resistivity formulation': '0', 'conductivity formulation': '1'}, style=DescriptionStyle(description_width='initial'), value='0'), HTML(value='<a href=\"https://m-weigand.github.io/ccd_tools/doc_ccd/usage_and_implementation.html#\" target=\"_blank\">Help</a>'))), HBox(children=(IntText(value=10, description='Lambda'), HTML(value='<a href=\"https://m-weigand.github.io/ccd_tools/doc_ccd/usage_and_implementation.html#data_weighting\" target=\"_blank\">Help</a>'))), HBox(children=(FloatSlider(value=0.5, continuous_update=False, description='C-value:', max=1.0, min=0.1, readout_format='.1f'), HTML(value='<a href=\"https://m-weigand.github.io/ccd_tools/doc_ccd/usage_and_implementation.html#data_weighting\" target=\"_blank\">Help</a>'))), HBox(children=(FloatText(value=0.01, description='Frequency min:', style=DescriptionStyle(description_width='initial')), FloatText(value=10000.0, description='Frequency max:', style=DescriptionStyle(description_width='initial')), HTML(value='<a href=\"https://m-weigand.github.io/ccd_tools/doc_ccd/usage_and_implementation.html#\" target=\"_blank\">Help</a>'))), Accordion(children=(VBox(children=(Checkbox(value=True, description='0.01 Hz'), Checkbox(value=True, description='0.02 Hz'), Checkbox(value=True, description='0.04 Hz'), Checkbox(value=True, description='0.09 Hz'), Checkbox(value=True, description='0.18 Hz'), Checkbox(value=True, description='0.38 Hz'), Checkbox(value=True, description='0.78 Hz'), Checkbox(value=True, description='1.62 Hz'), Checkbox(value=True, description='3.36 Hz'), Checkbox(value=True, description='6.95 Hz'), Checkbox(value=True, description='14.38 Hz'), Checkbox(value=True, description='29.76 Hz'), Checkbox(value=True, description='61.58 Hz'), Checkbox(value=True, description='127.43 Hz'), Checkbox(value=True, description='263.67 Hz'), Checkbox(value=True, description='545.56 Hz'), Checkbox(value=True, description='1128.84 Hz'), Checkbox(value=True, description='2335.72 Hz'), Checkbox(value=True, description='4832.93 Hz'), Checkbox(value=True, description='10000.00 Hz')), layout=Layout(display='inline-flex', flex_flow='row wrap', width='100%')),), selected_index=None, _titles={'0': 'Ignore frequencies'}), HBox(children=(IntSlider(value=20, continuous_update=False, description='Maximum nr of iterations:', max=40, style=SliderStyle(description_width='initial')), HTML(value='<a href=\"https://m-weigand.github.io/ccd_tools/doc_ccd/usage_and_implementation.html#\" target=\"_blank\">Help</a>'))), HBox(children=(IntText(value=20, description='Nr of terms per frequency decade:', style=DescriptionStyle(description_width='initial')), HTML(value='<a href=\"https://m-weigand.github.io/ccd_tools/doc_ccd/usage_and_implementation.html#\" target=\"_blank\">Help</a>'))), HBox(children=(Dropdown(description='Range of tau values:', options=('data_ext', 'data', 'individual'), style=DescriptionStyle(description_width='initial'), value='data_ext'), IntText(value=100, description='left:', disabled=True, layout=Layout(visibility='hidden')), IntText(value=100, description='right:', disabled=True, layout=Layout(visibility='hidden')), HTML(value='<a href=\"https://m-weigand.github.io/ccd_tools/doc_ccd/usage_and_implementation.html#\" target=\"_blank\">Help</a>'))), HBox(children=(Dropdown(description='Data weighting scheme:', options=('re_vs_im', 'avg_im', 'avg_im_err', 'one', 'all_to_one', 'rel_abs_error'), style=DescriptionStyle(description_width='initial'), value='re_vs_im'), HTML(value='<a href=\"https://m-weigand.github.io/ccd_tools/doc_ccd/usage_and_implementation.html#data_weighting\" target=\"_blank\">Help</a>'))), HBox(children=(Checkbox(value=False, description='Activate normalization', style=DescriptionStyle(description_width='initial')), FloatText(value=10.0, description='Normalization value:', disabled=True, step=1.0, style=DescriptionStyle(description_width='initial')), HTML(value='<a href=\"https://m-weigand.github.io/ccd_tools/doc_ccd/usage_and_implementation.html#normalization\" target=\"_blank\">Help</a>'))), VBox(children=(Checkbox(value=True, description='Generate plot'), Checkbox(value=False, description='Generate plots for all iterations', disabled=True), Checkbox(value=False, description='Plot lcurve'), Checkbox(value=False, description='Plot regularization strength '), Checkbox(value=True, description='Generate output for download')), layout=Layout(border='3px solid black', display='inline-flex', flex_flow='row wrap', width='100%')), HBox(children=(Button(description='Run CCD', layout=Layout(height='80px', width='50%'), style=ButtonStyle(), tooltip='Run the Cole-Cole decomposition'),), layout=Layout(align_items='center', width='100%'))))"
      ]
     },
     "metadata": {},
     "output_type": "display_data"
    },
    {
     "data": {
      "text/html": [
       "<hr />"
      ],
      "text/plain": [
       "<IPython.core.display.HTML object>"
      ]
     },
     "metadata": {},
     "output_type": "display_data"
    },
    {
     "name": "stdout",
     "output_type": "stream",
     "text": [
      "{'type': 'change', 'new': {'value': False}, 'owner': ToggleButton(value=True, description='Show advanced options', icon='check'), 'name': '_property_lock', 'old': traitlets.Undefined}\n",
      "{'type': 'change', 'new': False, 'owner': ToggleButton(value=False, description='Show advanced options', icon='check'), 'name': 'value', 'old': True}\n",
      "{'type': 'change', 'new': {}, 'owner': ToggleButton(value=False, description='Show advanced options', icon='check'), 'name': '_property_lock', 'old': {'value': False}}\n"
     ]
    }
   ],
   "source": [
    "app = ccd_single.ccd_single_app('frequencies.dat', 'data.dat')\n",
    "app.show()"
   ]
  },
  {
   "cell_type": "code",
   "execution_count": null,
   "metadata": {},
   "outputs": [],
   "source": []
  }
 ],
 "metadata": {
  "kernelspec": {
   "display_name": "Python 3",
   "language": "python",
   "name": "python3"
  },
  "language_info": {
   "codemirror_mode": {
    "name": "ipython",
    "version": 3
   },
   "file_extension": ".py",
   "mimetype": "text/x-python",
   "name": "python",
   "nbconvert_exporter": "python",
   "pygments_lexer": "ipython3",
   "version": "3.4.2"
  }
 },
 "nbformat": 4,
 "nbformat_minor": 2
}
