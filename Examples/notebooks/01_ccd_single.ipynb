{
 "cells": [
  {
   "cell_type": "code",
   "execution_count": null,
   "metadata": {},
   "outputs": [],
   "source": [
    "%matplotlib inline"
   ]
  },
  {
   "cell_type": "code",
   "execution_count": null,
   "metadata": {
    "scrolled": false
   },
   "outputs": [],
   "source": [
    "import lib_dd.decomposition.ccd_single as ccd_single\n",
    "import lib_dd.config.cfg_single as cfg_single\n",
    "import numpy as np\n",
    "\n",
    "frequencies = np.loadtxt('frequencies.dat')\n",
    "data = np.loadtxt('data.dat')\n",
    "\n",
    "# set options using this dict-like object\n",
    "config = cfg_single.cfg_single()\n",
    "config['frequency_file'] = frequencies\n",
    "config['data_file'] = data\n",
    "config['fixed_lambda'] = 10\n",
    "config['norm'] = 10\n",
    "\n",
    "# generate a ccd object\n",
    "ccd_obj = ccd_single.ccd_single(config)\n",
    "\n",
    "# commence with the actual fitting\n",
    "ccd_obj.fit_data()\n",
    "\n",
    "# extract the last iteration\n",
    "last_it = ccd_obj.results[0].iterations[-1]\n",
    "\n",
    "print(dir(last_it))\n",
    "print('fit parameters', last_it.m)\n",
    "print('stat_pars', last_it.stat_pars)\n",
    "\n",
    "# save to directory\n",
    "ccd_obj.save_to_directory()"
   ]
  },
  {
   "cell_type": "code",
   "execution_count": null,
   "metadata": {},
   "outputs": [],
   "source": [
    "ccd_obj.results[-1].iterations[-1].plot()"
   ]
  },
  {
   "cell_type": "code",
   "execution_count": null,
   "metadata": {},
   "outputs": [],
   "source": [
    "_ = last_it.plot()"
   ]
  },
  {
   "cell_type": "code",
   "execution_count": null,
   "metadata": {},
   "outputs": [],
   "source": []
  },
  {
   "cell_type": "code",
   "execution_count": null,
   "metadata": {},
   "outputs": [],
   "source": []
  },
  {
   "cell_type": "code",
   "execution_count": null,
   "metadata": {},
   "outputs": [],
   "source": [
    "ccd_obj.data"
   ]
  }
 ],
 "metadata": {
  "kernelspec": {
   "display_name": "Python 3",
   "language": "python",
   "name": "python3"
  },
  "language_info": {
   "codemirror_mode": {
    "name": "ipython",
    "version": 3
   },
   "file_extension": ".py",
   "mimetype": "text/x-python",
   "name": "python",
   "nbconvert_exporter": "python",
   "pygments_lexer": "ipython3",
   "version": "3.5.3"
  }
 },
 "nbformat": 4,
 "nbformat_minor": 2
}
