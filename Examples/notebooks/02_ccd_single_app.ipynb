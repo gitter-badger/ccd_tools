{
 "cells": [
  {
   "cell_type": "code",
   "execution_count": 50,
   "metadata": {},
   "outputs": [],
   "source": [
    "import os\n",
    "import shutil\n",
    "import ipywidgets as widgets\n",
    "from IPython.core.display import display, HTML\n",
    "import numpy as np\n",
    "import lib_dd.decomposition.ccd_single as ccd_single\n",
    "import lib_dd.config.cfg_single as cfg_single\n",
    "\n",
    "class ccd_single_app(object):\n",
    "    def __init__(self, frequency_file, data_file):\n",
    "        self.frequencies = np.loadtxt(frequency_file)\n",
    "        self.data = np.loadtxt(data_file)\n",
    "        self.widgets = []\n",
    "        self.vbox = None\n",
    "        self.print_data_summary()\n",
    "        self._init_app_widgets()\n",
    "        \n",
    "    def print_data_summary(self):\n",
    "        \"\"\"Print a summary of the data, e.g., number of frequencies, min/max values\"\"\"\n",
    "        summary = []\n",
    "        # frequency statistics\n",
    "        summary.append('Number of frequencies: {0}'.format(len(self.frequencies)))\n",
    "        summary.append('Minimum frequency: {0} Hz'.format(self.frequencies.min()))\n",
    "        summary.append('Maximum frequency: {0} Hz'.format(self.frequencies.max()))\n",
    "        \n",
    "        # data statistics\n",
    "        summary.append('')\n",
    "        summary.append('number of SIP spectra: {0}'.format(self.data.shape[0]))\n",
    "        \n",
    "        summary.append('<hr />')\n",
    "        display(HTML('<h2>Data summary</h2>'))\n",
    "        display(HTML('<br />'.join(summary)))\n",
    "        \n",
    "    def _init_app_widgets(self):\n",
    "        style = {'description_width': 'initial'}\n",
    "        w_condres = widgets.Dropdown(\n",
    "            options={\n",
    "                'resistivity formulation': '0',\n",
    "                'conductivity formulation': '1',\n",
    "            },\n",
    "            value='0',\n",
    "            description='Type of kernel:',\n",
    "            style=style,\n",
    "        )\n",
    "        w_lambda = widgets.IntText(\n",
    "            value=10,\n",
    "            description='Lambda',\n",
    "            disabled=False,\n",
    "        )\n",
    "        w_run = widgets.Button(\n",
    "            description='Run CCD',\n",
    "            disabled=False,\n",
    "            tooltip='Run the Cole-Cole decomposition',\n",
    "        )\n",
    "        w_c = widgets.FloatSlider(\n",
    "            value=0.5,\n",
    "            min=0,\n",
    "            max=1.0,\n",
    "            step=0.1,\n",
    "            description='C-value:',\n",
    "            disabled=False,\n",
    "            continuous_update=False,\n",
    "            orientation='horizontal',\n",
    "            readout=True,\n",
    "            readout_format='.1f',\n",
    "        )\n",
    " \n",
    "        w_normalization = widgets.Checkbox(\n",
    "            value=False,\n",
    "            description='Activate normalization',\n",
    "            disabled=False,\n",
    "            style=style,\n",
    "        )\n",
    "        w_norm_value = widgets.FloatText(\n",
    "            value=10,\n",
    "            step=1,\n",
    "            description='Normalization value:',\n",
    "            disabled=True,\n",
    "            style=style,\n",
    "        )\n",
    "        w_generate_plot = widgets.Checkbox(\n",
    "            value=True,\n",
    "            description='Generate plot',\n",
    "            disabled=False\n",
    "        )\n",
    "        w_generate_output = widgets.Checkbox(\n",
    "            value=True,\n",
    "            description='Generate output for download',\n",
    "            disabled=False\n",
    "        )\n",
    "        w_run.on_click(self.run_ccd)\n",
    "        \n",
    "        def use_norm_change(change):\n",
    "            if change['name'] == 'value':\n",
    "                if change['new'] == True:\n",
    "                    w_norm_value.disabled = False\n",
    "                else:\n",
    "                    w_norm_value.disabled = True    \n",
    "            \n",
    "        w_normalization.observe(use_norm_change)\n",
    "        self.widgets = {\n",
    "            'type_formulation': w_condres,\n",
    "            'lambda': w_lambda,\n",
    "            'run': w_run,\n",
    "            'c_selection': w_c,\n",
    "            'use_normalization': w_normalization,\n",
    "            'norm_value': w_norm_value,\n",
    "            'generate_plot': w_generate_plot,\n",
    "            'generate_output': w_generate_output,\n",
    "        }\n",
    "        \n",
    "        \n",
    "        self.vbox = widgets.VBox([self.widgets[key] for key in sorted(self.widgets.keys())])\n",
    "        \n",
    "    def show_app(self):\n",
    "        display(self.vbox)\n",
    "        display(HTML('<hr />'))\n",
    "\n",
    "    def run_ccd(self, button):\n",
    "        print('running CCd')\n",
    "        print('lambda', self.widgets['lambda'].value)\n",
    "        # set environment variables\n",
    "        os.environ['DD_COND'] = self.widgets['type_formulation'].value\n",
    "        os.environ['DD_C'] = '{0:.2f}'.format(\n",
    "            self.widgets['c_selection'].value\n",
    "        )\n",
    "        \n",
    "        \n",
    "        # set options using this dict-like object\n",
    "        config = cfg_single.cfg_single()\n",
    "        config['frequency_file'] = self.frequencies\n",
    "        config['data_file'] = self.data\n",
    "        config['fixed_lambda'] =  int(self.widgets['lambda'].value)\n",
    "        \n",
    "        if self.widgets['use_normalization'].value is True:\n",
    "            config['norm'] = self.widgets['norm_value'].value\n",
    "            \n",
    "        # generate a ccd object\n",
    "        ccd_obj = ccd_single.ccd_single(config)\n",
    "\n",
    "        # commence with the actual fitting\n",
    "        ccd_obj.fit_data()\n",
    "        \n",
    "        # extract the last iteration\n",
    "        last_it = ccd_obj.results[0].iterations[-1]\n",
    "        if self.widgets['generate_plot'].value is True:\n",
    "            print('plotting ... this may take a while')\n",
    "            _ = last_it.plot()\n",
    "        \n",
    "        if self.widgets['generate_output'].value is True:\n",
    "            outdir = 'output'\n",
    "            if os.path.isdir(outdir):\n",
    "                shutil.rmtree(outdir)\n",
    "            ccd_obj.save_to_directory('output')\n",
    "\n",
    "            shutil.make_archive('output', format='zip', root_dir='output/', verbose=True)\n",
    "\n",
    "            display(HTML('<a href=\"output.zip\">Download results</a>'))\n"
   ]
  },
  {
   "cell_type": "code",
   "execution_count": 51,
   "metadata": {
    "scrolled": false
   },
   "outputs": [
    {
     "data": {
      "text/html": [
       "<h2>Data summary</h2>"
      ],
      "text/plain": [
       "<IPython.core.display.HTML object>"
      ]
     },
     "metadata": {},
     "output_type": "display_data"
    },
    {
     "data": {
      "text/html": [
       "Number of frequencies: 20<br />Minimum frequency: 0.01 Hz<br />Maximum frequency: 10000.0 Hz<br /><br />number of SIP spectra: 40<br /><hr />"
      ],
      "text/plain": [
       "<IPython.core.display.HTML object>"
      ]
     },
     "metadata": {},
     "output_type": "display_data"
    },
    {
     "data": {
      "application/vnd.jupyter.widget-view+json": {
       "model_id": "41b8ac6c60434c13b45257e914bc140f",
       "version_major": 2,
       "version_minor": 0
      },
      "text/html": [
       "<p>Failed to display Jupyter Widget of type <code>VBox</code>.</p>\n",
       "<p>\n",
       "  If you're reading this message in Jupyter Notebook or JupyterLab, it may mean\n",
       "  that the widgets JavaScript is still loading. If this message persists, it\n",
       "  likely means that the widgets JavaScript library is either not installed or\n",
       "  not enabled. See the <a href=\"https://ipywidgets.readthedocs.io/en/stable/user_install.html\">Jupyter\n",
       "  Widgets Documentation</a> for setup instructions.\n",
       "</p>\n",
       "<p>\n",
       "  If you're reading this message in another notebook frontend (for example, a static\n",
       "  rendering on GitHub or <a href=\"https://nbviewer.jupyter.org/\">NBViewer</a>),\n",
       "  it may mean that your frontend doesn't currently support widgets.\n",
       "</p>\n"
      ],
      "text/plain": [
       "VBox(children=(FloatSlider(value=0.5, continuous_update=False, description='C-value:', max=1.0, readout_format='.1f'), Checkbox(value=True, description='Generate output for download'), Checkbox(value=True, description='Generate plot'), IntText(value=10, description='Lambda'), FloatText(value=10.0, description='Normalization value:', disabled=True, step=1.0, style=DescriptionStyle(description_width='initial')), Button(description='Run CCD', style=ButtonStyle(), tooltip='Run the Cole-Cole decomposition'), Dropdown(description='Type of kernel:', options={'resistivity formulation': '0', 'conductivity formulation': '1'}, style=DescriptionStyle(description_width='initial'), value='0'), Checkbox(value=False, description='Activate normalization', style=DescriptionStyle(description_width='initial'))))"
      ]
     },
     "metadata": {},
     "output_type": "display_data"
    },
    {
     "data": {
      "text/html": [
       "<hr />"
      ],
      "text/plain": [
       "<IPython.core.display.HTML object>"
      ]
     },
     "metadata": {},
     "output_type": "display_data"
    }
   ],
   "source": [
    "%matplotlib inline\n",
    "app = ccd_single_app('frequencies.dat', 'data.dat')\n",
    "app.show_app()"
   ]
  },
  {
   "cell_type": "code",
   "execution_count": null,
   "metadata": {},
   "outputs": [],
   "source": []
  }
 ],
 "metadata": {
  "kernelspec": {
   "display_name": "Python 3",
   "language": "python",
   "name": "python3"
  },
  "language_info": {
   "codemirror_mode": {
    "name": "ipython",
    "version": 3
   },
   "file_extension": ".py",
   "mimetype": "text/x-python",
   "name": "python",
   "nbconvert_exporter": "python",
   "pygments_lexer": "ipython3",
   "version": "3.5.3"
  }
 },
 "nbformat": 4,
 "nbformat_minor": 2
}
